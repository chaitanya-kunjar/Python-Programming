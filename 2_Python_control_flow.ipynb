{
  "nbformat": 4,
  "nbformat_minor": 0,
  "metadata": {
    "colab": {
      "provenance": []
    },
    "kernelspec": {
      "name": "python3",
      "display_name": "Python 3"
    },
    "language_info": {
      "name": "python"
    }
  },
  "cells": [
    {
      "cell_type": "markdown",
      "source": [
        "#PYTHON CONTROL FLOW\n",
        "1. Coditional statements\n",
        "  * if\n",
        "  * if else\n",
        "  * if elif else\n",
        "  * Nested conditional statements\n",
        "  * Practical examples\n",
        "2. Loops\n",
        "  * for loop\n",
        "  * while loop\n",
        "  * break statement\n",
        "  * continue statement\n",
        "  * pass statement\n",
        "  * Nested loops\n",
        "  * Practical examples"
      ],
      "metadata": {
        "id": "R8bL9TXVE0Fn"
      }
    },
    {
      "cell_type": "markdown",
      "source": [
        "#if statement\n",
        "\n",
        "\n",
        "```\n",
        "if(condition):\n",
        "  # Statement to be executed if the condition is True\n",
        "Normal flow of execution\n",
        "```\n",
        "\n"
      ],
      "metadata": {
        "id": "X5fMQnTSFaRn"
      }
    },
    {
      "cell_type": "code",
      "source": [
        "# Example program to implement if statement\n",
        "age = int(input(\"Enter your age: \"))\n",
        "if age >= 18:\n",
        "  print(\"You are eligible to vote\")"
      ],
      "metadata": {
        "colab": {
          "base_uri": "https://localhost:8080/"
        },
        "id": "YmDelZGkFr4e",
        "outputId": "3db3b99f-9280-4266-92c5-769c7f761d05"
      },
      "execution_count": null,
      "outputs": [
        {
          "output_type": "stream",
          "name": "stdout",
          "text": [
            "Enter your age: 20\n",
            "You are eligible to vote\n"
          ]
        }
      ]
    },
    {
      "cell_type": "markdown",
      "source": [
        "#if else statement\n",
        "\n",
        "\n",
        "```\n",
        "if(condition):\n",
        "  # Statement to be executed if the condition is True\n",
        "else:\n",
        "  # Statement to be executed if the condition is False\n",
        "Normal flow of execution\n",
        "```\n",
        "\n"
      ],
      "metadata": {
        "id": "CAhjHtn2GCmQ"
      }
    },
    {
      "cell_type": "code",
      "source": [
        "# Example program to implement if else statement\n",
        "age = int(input(\"Enter your age: \"))\n",
        "if age >= 18:\n",
        "  print(\"You are eligible to vote\")\n",
        "else:\n",
        "  print(\"You are not eligible to vote\")"
      ],
      "metadata": {
        "colab": {
          "base_uri": "https://localhost:8080/"
        },
        "id": "ajFPIK0aGe5K",
        "outputId": "e933e0ce-f1d9-4a41-a511-69d75ee63041"
      },
      "execution_count": null,
      "outputs": [
        {
          "output_type": "stream",
          "name": "stdout",
          "text": [
            "Enter your age: 16\n",
            "You are not eligible to vote\n"
          ]
        }
      ]
    },
    {
      "cell_type": "markdown",
      "source": [
        "#if elif else statement\n",
        "\n",
        "\n",
        "```\n",
        "if(condition 1):\n",
        "  # Statement to be executed if condition 1 is True\n",
        "elif(condition 2):\n",
        "  # Statement to be executed if condition 2 is True\n",
        "elif(condition 3):\n",
        "  # Statement to be executed if condition 3 is True\n",
        "  .\n",
        "  .\n",
        "  .\n",
        "  .\n",
        "  .\n",
        "elif(condition n):\n",
        "  # Statement to be executed if condition n is True\n",
        "else:\n",
        "  # Statement to be executed if all conditions are False\n",
        "```\n",
        "\n"
      ],
      "metadata": {
        "id": "fZ3ItHpHGuF0"
      }
    },
    {
      "cell_type": "code",
      "source": [
        "# Example program to implement if elif else statement\n",
        "marks = int(input(\"Enter your marks: \"))\n",
        "if marks >= 90:\n",
        "    print(\"Grade: A\")\n",
        "elif marks >= 80:\n",
        "    print(\"Grade: B\")\n",
        "elif marks >= 70:\n",
        "    print(\"Grade: C\")\n",
        "elif marks >= 60:\n",
        "    print(\"Grade: D\")\n",
        "else:\n",
        "    print(\"Grade: F\")"
      ],
      "metadata": {
        "colab": {
          "base_uri": "https://localhost:8080/"
        },
        "id": "lElg7nH5HsuK",
        "outputId": "72d9866e-3b3a-4dcd-f234-aaa6394050db"
      },
      "execution_count": null,
      "outputs": [
        {
          "output_type": "stream",
          "name": "stdout",
          "text": [
            "Enter your marks: 84\n",
            "Grade: B\n"
          ]
        }
      ]
    },
    {
      "cell_type": "markdown",
      "source": [
        "#Nested conditional statements\n",
        "\n",
        "\n",
        "```\n",
        "if(condition 1):\n",
        "  if(condition 2):\n",
        "    # Statement to be executed if condition 1 is True and condition 2 is True\n",
        "  else:\n",
        "    # Statement to be executed if condition 1 is True and condition 2 is False\n",
        "else:\n",
        "  if(condition 3):\n",
        "    # Statement to be executed if condition 1 is False and condition 3 is True\n",
        "  else:\n",
        "    # Statement to be executed if condition 1 is False and condition 3 is False\n",
        "```\n",
        "\n"
      ],
      "metadata": {
        "id": "rcL54ORhISQA"
      }
    },
    {
      "cell_type": "code",
      "source": [
        "# Example program to show implementation of nested conditional statements\n",
        "age = int(input(\"Enter your age: \"))\n",
        "if age >= 18:\n",
        "  if age >= 21:\n",
        "    print(\"You are eligible to vote and drive\")\n",
        "  else:\n",
        "    print(\"You are eligible to vote but not to drive\")\n",
        "\n",
        "else:\n",
        "  if age >= 13:\n",
        "    print(\"You are eligible to drive but not to vote\")\n",
        "  else:\n",
        "    print(\"You are not eligible to vote or drive\")"
      ],
      "metadata": {
        "colab": {
          "base_uri": "https://localhost:8080/"
        },
        "id": "UmC0vy6AJDDn",
        "outputId": "48ea2ed1-d03d-4570-9b91-f2794d1ab97b"
      },
      "execution_count": null,
      "outputs": [
        {
          "output_type": "stream",
          "name": "stdout",
          "text": [
            "Enter your age: 24\n",
            "You are eligible to vote and drive\n"
          ]
        }
      ]
    },
    {
      "cell_type": "markdown",
      "source": [
        "#Practical examples of conditional statements"
      ],
      "metadata": {
        "id": "wUVk6CqOtWHF"
      }
    },
    {
      "cell_type": "code",
      "source": [
        "# Determine whether a year is leap year or not\n",
        "year = int(input(\"Enter a year:\"))\n",
        "if year%4==0:\n",
        "  if year%100==0:\n",
        "    if year%400==0:\n",
        "      print(year,\"is a leap year\")\n",
        "    else:\n",
        "      print(year,\"is not a leap year\")\n",
        "  else:\n",
        "    print(year,\"is a leap year\")\n",
        "else:\n",
        "  print(year,\"is not a leap year\")"
      ],
      "metadata": {
        "colab": {
          "base_uri": "https://localhost:8080/"
        },
        "id": "6T4OrrTItbYv",
        "outputId": "fad5fe02-e822-4a47-e603-000baaf3f5cf"
      },
      "execution_count": 2,
      "outputs": [
        {
          "output_type": "stream",
          "name": "stdout",
          "text": [
            "Enter a year:1996\n",
            "1996  is a leap year\n"
          ]
        }
      ]
    },
    {
      "cell_type": "code",
      "source": [
        "# Simple calculator\n",
        "num1 = int(input(\"Enter first no.: \"))\n",
        "num2 = int(input(\"Enter second no.: \"))\n",
        "print(\"1. Addition\")\n",
        "print(\"2. Subtraction\")\n",
        "print(\"3. Multiplication\")\n",
        "print(\"4. Division\")\n",
        "print(\"5. Modulus\")\n",
        "print(\"6. Exponentiation\")\n",
        "choice = int(input(\"Enter your choice: \"))\n",
        "if(choice==1):\n",
        "  print(\"Addition of\",num1,\"and\",num2,\"is\",num1+num2)\n",
        "elif(choice==2):\n",
        "  print(\"Subtraction of\",num1,\"and\",num2,\"is\",num1-num2)\n",
        "elif(choice==3):\n",
        "  print(\"Multiplication of\",num1,\"and\",num2,\"is\",num1*num2)\n",
        "elif(choice==4):\n",
        "  print(\"Division of\",num1,\"and\",num2,\"is\",num1/num2)\n",
        "elif(choice==5):\n",
        "  print(\"Modulus of\",num1,\"and\",num2,\"is\",num1%num2)\n",
        "elif(choice==6):\n",
        "  print(\"Exponentiation of\",num1,\"and\",num2,\"is\",num1**num2)\n",
        "else:\n",
        "  print(\"Invalid choice\")"
      ],
      "metadata": {
        "colab": {
          "base_uri": "https://localhost:8080/"
        },
        "id": "Zb9CK9jMu-tn",
        "outputId": "e281edcf-81b5-4930-d326-536c61c5ddef"
      },
      "execution_count": 4,
      "outputs": [
        {
          "output_type": "stream",
          "name": "stdout",
          "text": [
            "Enter first no.: 30\n",
            "Enter second no.: 20\n",
            "1. Addition\n",
            "2. Subtraction\n",
            "3. Multiplication\n",
            "4. Division\n",
            "5. Modulus\n",
            "6. Exponentiation\n",
            "Enter your choice: 4\n",
            "Division of 30 and 20 is 1.5\n"
          ]
        }
      ]
    },
    {
      "cell_type": "markdown",
      "source": [
        "#for loop\n",
        "\n",
        "\n",
        "```\n",
        "for (i in range(n)):\n",
        "  # Statment to be executed n times\n",
        "```\n",
        "\n"
      ],
      "metadata": {
        "id": "r-uZOoZQwb7_"
      }
    },
    {
      "cell_type": "code",
      "source": [
        "# Example program to implement for loop using range()\n",
        "# range(n) : 0 to n-1\n",
        "for i in range(5):\n",
        "  print(i)\n",
        "print(\"***\")\n",
        "# range(start,end) : start to end-1\n",
        "for i in range(1,5):\n",
        "  print(i)\n",
        "print(\"***\")\n",
        "# range(start,end,step) : start to end-1 with step\n",
        "for i in range(1,10,2):\n",
        "  print(i) # Increasing\n",
        "print(\"***\")\n",
        "for i in range(10,1,-2):\n",
        "  print(i) # Decreasing"
      ],
      "metadata": {
        "colab": {
          "base_uri": "https://localhost:8080/"
        },
        "id": "CvBgTPRQw5Ei",
        "outputId": "a3927d02-88b9-4c2a-dc7b-697d9194e589"
      },
      "execution_count": 10,
      "outputs": [
        {
          "output_type": "stream",
          "name": "stdout",
          "text": [
            "0\n",
            "1\n",
            "2\n",
            "3\n",
            "4\n",
            "***\n",
            "1\n",
            "2\n",
            "3\n",
            "4\n",
            "***\n",
            "1\n",
            "3\n",
            "5\n",
            "7\n",
            "9\n",
            "***\n",
            "10\n",
            "8\n",
            "6\n",
            "4\n",
            "2\n"
          ]
        }
      ]
    },
    {
      "cell_type": "code",
      "source": [
        "# Example program to showing traversing in string using for loop\n",
        "str = \"Hello World!\"\n",
        "for i in str:\n",
        "  print(i)"
      ],
      "metadata": {
        "colab": {
          "base_uri": "https://localhost:8080/"
        },
        "id": "MvW6Vsw-yT_m",
        "outputId": "da9ac392-b876-4848-9835-0f22f45ad5a4"
      },
      "execution_count": 12,
      "outputs": [
        {
          "output_type": "stream",
          "name": "stdout",
          "text": [
            "H\n",
            "e\n",
            "l\n",
            "l\n",
            "o\n",
            " \n",
            "W\n",
            "o\n",
            "r\n",
            "l\n",
            "d\n",
            "!\n"
          ]
        }
      ]
    },
    {
      "cell_type": "markdown",
      "source": [
        "#while loop\n",
        "\n",
        "\n",
        "```\n",
        "initializarion\n",
        "while(condition):\n",
        "  # Statement to be executed as long as the condition is True\n",
        "  updation\n",
        "Normal flow of the program\n",
        "```\n",
        "\n"
      ],
      "metadata": {
        "id": "m3SS0P2zyo-y"
      }
    },
    {
      "cell_type": "code",
      "source": [
        "# Example program to show implementation of while loop\n",
        "i = 1 # initialization\n",
        "while(i<=5): # condition\n",
        "  print(i)\n",
        "  i +=1 # updation"
      ],
      "metadata": {
        "colab": {
          "base_uri": "https://localhost:8080/"
        },
        "id": "T5UXXvHoy-id",
        "outputId": "f6b9fb0b-160e-496c-c827-d1abc0365a59"
      },
      "execution_count": 13,
      "outputs": [
        {
          "output_type": "stream",
          "name": "stdout",
          "text": [
            "1\n",
            "2\n",
            "3\n",
            "4\n",
            "5\n"
          ]
        }
      ]
    },
    {
      "cell_type": "markdown",
      "source": [
        "#break statement\n",
        "The break statement exits the loop prematurely."
      ],
      "metadata": {
        "id": "u55tLbN5zvZE"
      }
    },
    {
      "cell_type": "code",
      "source": [
        "# Example program to show implementation of break statement\n",
        "for i in range(10):\n",
        "  if i==5:\n",
        "    break\n",
        "  print(i)"
      ],
      "metadata": {
        "colab": {
          "base_uri": "https://localhost:8080/"
        },
        "id": "JRgOppB3z32g",
        "outputId": "d6e2e8d3-a46a-465d-c6d3-89b36a748ebd"
      },
      "execution_count": 14,
      "outputs": [
        {
          "output_type": "stream",
          "name": "stdout",
          "text": [
            "0\n",
            "1\n",
            "2\n",
            "3\n",
            "4\n"
          ]
        }
      ]
    },
    {
      "cell_type": "markdown",
      "source": [
        "#continue statement\n",
        "The continue statement skips the current iteration and continues the execution of further iterations"
      ],
      "metadata": {
        "id": "aMMn-ctq0cyB"
      }
    },
    {
      "cell_type": "code",
      "source": [
        "# Example program to show implementation of continue statement\n",
        "for i in range(10):\n",
        "  if i==5:\n",
        "    continue\n",
        "  print(i)"
      ],
      "metadata": {
        "colab": {
          "base_uri": "https://localhost:8080/"
        },
        "id": "CLn5AIQm0pHD",
        "outputId": "584899aa-5016-4026-da8a-9c00f2b24b5e"
      },
      "execution_count": 15,
      "outputs": [
        {
          "output_type": "stream",
          "name": "stdout",
          "text": [
            "0\n",
            "1\n",
            "2\n",
            "3\n",
            "4\n",
            "6\n",
            "7\n",
            "8\n",
            "9\n"
          ]
        }
      ]
    },
    {
      "cell_type": "code",
      "source": [
        "# Using continue statement to print odd numbers\n",
        "for i in range(10):\n",
        "  if i%2==0:\n",
        "    continue\n",
        "  print(i)"
      ],
      "metadata": {
        "colab": {
          "base_uri": "https://localhost:8080/"
        },
        "id": "19-HHyQG04fM",
        "outputId": "125654ce-c9ec-4816-c497-c5a91ca8bab3"
      },
      "execution_count": 16,
      "outputs": [
        {
          "output_type": "stream",
          "name": "stdout",
          "text": [
            "1\n",
            "3\n",
            "5\n",
            "7\n",
            "9\n"
          ]
        }
      ]
    },
    {
      "cell_type": "markdown",
      "source": [
        "#pass statement\n",
        "The pass statement is a null operation, it does nothing"
      ],
      "metadata": {
        "id": "DQfs8U161PbL"
      }
    },
    {
      "cell_type": "code",
      "source": [
        "# Example program to show implementation of pass statement\n",
        "for i in range(5):\n",
        "  if i==5:\n",
        "    pass\n",
        "  print(i)"
      ],
      "metadata": {
        "colab": {
          "base_uri": "https://localhost:8080/"
        },
        "id": "hLEz6EGW1eyC",
        "outputId": "633b0c14-0ec6-402f-a768-aca2640515e7"
      },
      "execution_count": 18,
      "outputs": [
        {
          "output_type": "stream",
          "name": "stdout",
          "text": [
            "0\n",
            "1\n",
            "2\n",
            "3\n",
            "4\n"
          ]
        }
      ]
    },
    {
      "cell_type": "markdown",
      "source": [
        "#Nested loops"
      ],
      "metadata": {
        "id": "mViDuueU1_ep"
      }
    },
    {
      "cell_type": "code",
      "source": [
        "# Example program to implement nested loops\n",
        "for i in range(3):\n",
        "  for j in range(3):\n",
        "    print(f\"i={i}, j={j}\")"
      ],
      "metadata": {
        "colab": {
          "base_uri": "https://localhost:8080/"
        },
        "id": "V4QuHvn41_DR",
        "outputId": "ccbad30f-b5b8-44bf-f99a-27b4348acaa7"
      },
      "execution_count": 19,
      "outputs": [
        {
          "output_type": "stream",
          "name": "stdout",
          "text": [
            "i=0, j=0\n",
            "i=0, j=1\n",
            "i=0, j=2\n",
            "i=1, j=0\n",
            "i=1, j=1\n",
            "i=1, j=2\n",
            "i=2, j=0\n",
            "i=2, j=1\n",
            "i=2, j=2\n"
          ]
        }
      ]
    },
    {
      "cell_type": "markdown",
      "source": [
        "#Practical examples of loops"
      ],
      "metadata": {
        "id": "baGOE2l02khO"
      }
    },
    {
      "cell_type": "code",
      "source": [
        "# Calculate the sum of first n natural numbers using a for loop and while loop\n",
        "# for loop\n",
        "n = int(input(\"Enter a no.: \"))\n",
        "sum = 0\n",
        "for i in range(1,n+1):\n",
        "  sum = sum + i\n",
        "print(sum)\n",
        "# while loop\n",
        "n = int(input(\"Enter a no.: \"))\n",
        "sum = 0\n",
        "i = 1\n",
        "while(i<=n):\n",
        "  sum = sum + i\n",
        "  i += 1\n",
        "print(sum)"
      ],
      "metadata": {
        "colab": {
          "base_uri": "https://localhost:8080/"
        },
        "id": "STMPcOcK2nPw",
        "outputId": "72df480e-96f1-4f61-c6c4-0ccd969dd391"
      },
      "execution_count": 21,
      "outputs": [
        {
          "output_type": "stream",
          "name": "stdout",
          "text": [
            "Enter a no.: 10\n",
            "55\n",
            "Enter a no.: 10\n",
            "55\n"
          ]
        }
      ]
    }
  ]
}