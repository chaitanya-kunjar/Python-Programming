{
  "nbformat": 4,
  "nbformat_minor": 0,
  "metadata": {
    "colab": {
      "provenance": []
    },
    "kernelspec": {
      "name": "python3",
      "display_name": "Python 3"
    },
    "language_info": {
      "name": "python"
    }
  },
  "cells": [
    {
      "cell_type": "markdown",
      "source": [
        "#GETTING STARTED WITH PYTHON PROGRAMMING LANGUAGE\n",
        "1. Python Basics\n",
        "  * Syntax\n",
        "  * Semantics\n",
        "  * Comments in Python\n",
        "  * Basic syntax and semantics rules in Python\n",
        "2. Variables in Python\n",
        "  * Definition\n",
        "  * Naming conventions\n",
        "  * Type checking\n",
        "  * Type conversion\n",
        "  * Dynamic typing\n",
        "3. Datatypes in Python\n",
        "  * Definition, importance and types\n",
        "  * Input\n",
        "4. Operators in Python\n",
        "  * Definition and types\n",
        "  * Arithmetic\n",
        "  * Comparison\n",
        "  * Logical\n",
        "  * Assignment\n",
        "\n"
      ],
      "metadata": {
        "id": "dD7g020DzT4r"
      }
    },
    {
      "cell_type": "markdown",
      "source": [
        "#Syntax\n",
        "The set of rules that define how to structure a programming language's symbols, punctuation, and words."
      ],
      "metadata": {
        "id": "dXhwa2wPtNm6"
      }
    },
    {
      "cell_type": "markdown",
      "source": [
        "#Semantics\n",
        "The study of the meaning of a programming language and the processes a computer follows to execute a program."
      ],
      "metadata": {
        "id": "5nilH3UttRdF"
      }
    },
    {
      "cell_type": "markdown",
      "source": [
        "#Comments in Python\n",
        "Comments are the non executable part of the code which increase the readability.\n",
        "\n",
        "**2 types:**\n",
        "\n",
        "\n",
        "1. Single line comment\n",
        "```\n",
        "# This is a single line comment\n",
        "```\n",
        "2. Multi line comment\n",
        "```\n",
        "# This is a multi line comment\n",
        "# This is a multi line comment\n",
        "# This is a multi line comment\n",
        "```\n",
        "\n",
        "\n",
        "\n",
        "\n"
      ],
      "metadata": {
        "id": "U8-jtHtZtah0"
      }
    },
    {
      "cell_type": "markdown",
      "source": [
        "#Basic syntax and semantics rules in Python"
      ],
      "metadata": {
        "id": "PJbUeffMuUlR"
      }
    },
    {
      "cell_type": "markdown",
      "source": [
        "1. Case sensitivity : Upper case and lower case characters are treadted differently"
      ],
      "metadata": {
        "id": "5srJSEMQvPFb"
      }
    },
    {
      "cell_type": "code",
      "source": [
        "# Example program to show case sensitivity in Python by naming 2 variables\n",
        "x = 10 # Variable named as lower case\n",
        "X = 20 # Variable named as upper case\n",
        "# Printing both variables\n",
        "print(x)\n",
        "print(X)"
      ],
      "metadata": {
        "colab": {
          "base_uri": "https://localhost:8080/"
        },
        "id": "kMMVhUT9uiYi",
        "outputId": "178938e0-32d2-4509-d305-47ea7666e1d9"
      },
      "execution_count": null,
      "outputs": [
        {
          "output_type": "stream",
          "name": "stdout",
          "text": [
            "10\n",
            "20\n"
          ]
        }
      ]
    },
    {
      "cell_type": "markdown",
      "source": [
        "2. Indentation : Python uses indentation to define blocks of code (Unlike C, C++ or Java where curly braces are used). Consistent use of tab or 4 spaces is required."
      ],
      "metadata": {
        "id": "8wuF3FECvSZX"
      }
    },
    {
      "cell_type": "code",
      "source": [
        "# Example program to show indentation in Python by implementing if-else\n",
        "age = int(input(\"Enter age of voter: \"))\n",
        "if(age>=18):\n",
        "  print(\"You are eligible to vote\") # Indentation\n",
        "else:\n",
        "  print(\"You are not eligible to vote\") # Indentation"
      ],
      "metadata": {
        "colab": {
          "base_uri": "https://localhost:8080/"
        },
        "id": "YHfeIu_avl1t",
        "outputId": "31a84d64-3ec0-43da-c617-0f8b5eb9d1ba"
      },
      "execution_count": null,
      "outputs": [
        {
          "output_type": "stream",
          "name": "stdout",
          "text": [
            "Enter age of voter: 20\n",
            "You are eligible to vote\n"
          ]
        }
      ]
    },
    {
      "cell_type": "markdown",
      "source": [
        "3. Line continuation : Python allows us to continue long expressions to the next with the help of backslash (\\)"
      ],
      "metadata": {
        "id": "dxjJnfJXwUJs"
      }
    },
    {
      "cell_type": "code",
      "source": [
        "# Example program to show implementation of line continuation\n",
        "total = 1 + 2 + 3 + \\\n",
        "        4 + 5 + 6 + \\\n",
        "        7 + 8 + 9\n",
        "print(total)"
      ],
      "metadata": {
        "colab": {
          "base_uri": "https://localhost:8080/"
        },
        "id": "JrIU1QDIwfKP",
        "outputId": "a3f12a3d-b4de-4f1a-e33b-73b9d09b1cb1"
      },
      "execution_count": null,
      "outputs": [
        {
          "output_type": "stream",
          "name": "stdout",
          "text": [
            "45\n"
          ]
        }
      ]
    },
    {
      "cell_type": "markdown",
      "source": [
        "4. Multiple statements can be declared on a single line by separating them with semi colon (;)."
      ],
      "metadata": {
        "id": "y4GL7kE8wnV7"
      }
    },
    {
      "cell_type": "code",
      "source": [
        "# Example program to show multiple statements on a single line\n",
        "num1 = 10; num2 = 20; res = num1 + num2\n",
        "print(res)"
      ],
      "metadata": {
        "colab": {
          "base_uri": "https://localhost:8080/"
        },
        "id": "s3mUdM8nwvpf",
        "outputId": "3cdb38ab-cb14-4d02-832e-75614b15eedf"
      },
      "execution_count": null,
      "outputs": [
        {
          "output_type": "stream",
          "name": "stdout",
          "text": [
            "30\n"
          ]
        }
      ]
    },
    {
      "cell_type": "markdown",
      "source": [
        "5. Variable assignment : Since Python is a dynamically typed language, there is no need to declare the type of variable before using it, the type is infered by the compiler at run time."
      ],
      "metadata": {
        "id": "YcIiWfsHxbNs"
      }
    },
    {
      "cell_type": "code",
      "source": [
        "# Example program to show type inference in Python\n",
        "# Using variables without declaring their type\n",
        "name = \"Chaitanya\"\n",
        "print(name)\n",
        "print(type(name))\n",
        "\n",
        "age = 20\n",
        "print(age)\n",
        "print(type(age))\n",
        "\n",
        "height = 5.6\n",
        "print(height)\n",
        "print(type(height))\n",
        "\n",
        "is_student = True\n",
        "print(is_student)\n",
        "print(type(is_student))"
      ],
      "metadata": {
        "colab": {
          "base_uri": "https://localhost:8080/"
        },
        "id": "sWs2T56Lxscn",
        "outputId": "e76fa2fc-54f5-4c5e-9bbd-21cfaef2c2d9"
      },
      "execution_count": null,
      "outputs": [
        {
          "output_type": "stream",
          "name": "stdout",
          "text": [
            "Chaitanya\n",
            "<class 'str'>\n",
            "20\n",
            "<class 'int'>\n",
            "5.6\n",
            "<class 'float'>\n",
            "True\n",
            "<class 'bool'>\n"
          ]
        }
      ]
    },
    {
      "cell_type": "markdown",
      "source": [
        "#Variables\n",
        "Variables are fundamental elements in programming used to store data that can be referenced and manipulated in a program.\n",
        "\n",
        "In Python, variables are created when you assign a value to them, and they do not need explicit declaration to reserve memory space.\n",
        "\n",
        "The declaration happens automatically when you assign a value to a variable."
      ],
      "metadata": {
        "id": "ExMVWg100l2y"
      }
    },
    {
      "cell_type": "code",
      "source": [
        "# Defining variables = Declaration + Assignment\n",
        "age = 20\n",
        "height = 5.6\n",
        "name = \"Chaitanya\"\n",
        "is_student = True\n",
        "\n",
        "# Printing variables\n",
        "print(\"Age: \",age)\n",
        "print(\"Height: \",height)\n",
        "print(\"Name: \",name)\n",
        "print(\"Is student: \",is_student)"
      ],
      "metadata": {
        "colab": {
          "base_uri": "https://localhost:8080/"
        },
        "id": "kerVrlQB1K-A",
        "outputId": "7184c03a-f9cf-4da6-a14c-f1fbbcf73bbb"
      },
      "execution_count": null,
      "outputs": [
        {
          "output_type": "stream",
          "name": "stdout",
          "text": [
            "Age:  20\n",
            "Height:  5.6\n",
            "Name:  Chaitanya\n",
            "Is student:  True\n"
          ]
        }
      ]
    },
    {
      "cell_type": "markdown",
      "source": [
        "#Naming conventions of variables\n",
        "1. Name of variable must be meaningful\n",
        "2. They must only start with an alphabet or an underscore (_) and it can contain alphabets and numbers but not special symbols (except underscore)\n",
        "3. They are case sensitive\n",
        "4. It must not be a keyword\n"
      ],
      "metadata": {
        "id": "lBnUkRZy1sKW"
      }
    },
    {
      "cell_type": "code",
      "source": [
        "# Valid variable name\n",
        "first_name = \"Chaitanya\""
      ],
      "metadata": {
        "id": "QnPZruKc2TvX"
      },
      "execution_count": null,
      "outputs": []
    },
    {
      "cell_type": "code",
      "source": [
        "# Valid variable name\n",
        "_first_name = \"Chaitanya\""
      ],
      "metadata": {
        "id": "gw6Ee4TI2ag-"
      },
      "execution_count": null,
      "outputs": []
    },
    {
      "cell_type": "code",
      "source": [
        "# Valid variable name\n",
        "num_1 = 10\n",
        "num_2 = 20"
      ],
      "metadata": {
        "id": "bCKXuIfT2f6O"
      },
      "execution_count": null,
      "outputs": []
    },
    {
      "cell_type": "code",
      "source": [
        "# Invalid variable name\n",
        "# It must not start with number\n",
        "1st_num = 10\n",
        "2nd_num = 20"
      ],
      "metadata": {
        "colab": {
          "base_uri": "https://localhost:8080/",
          "height": 106
        },
        "id": "1dbA5s_c2rAE",
        "outputId": "2a5cc004-fe25-4744-ad47-eec24d7b872e"
      },
      "execution_count": null,
      "outputs": [
        {
          "output_type": "error",
          "ename": "SyntaxError",
          "evalue": "invalid decimal literal (<ipython-input-17-d60f9e119605>, line 2)",
          "traceback": [
            "\u001b[0;36m  File \u001b[0;32m\"<ipython-input-17-d60f9e119605>\"\u001b[0;36m, line \u001b[0;32m2\u001b[0m\n\u001b[0;31m    1st_num = 10\u001b[0m\n\u001b[0m    ^\u001b[0m\n\u001b[0;31mSyntaxError\u001b[0m\u001b[0;31m:\u001b[0m invalid decimal literal\n"
          ]
        }
      ]
    },
    {
      "cell_type": "code",
      "source": [
        "# Invalid variable name\n",
        "# It must not contain a special symbol other than underscore\n",
        "first@name = \"Chaitanya\""
      ],
      "metadata": {
        "colab": {
          "base_uri": "https://localhost:8080/",
          "height": 106
        },
        "id": "U4SXAdRq21bi",
        "outputId": "cb89e0c4-0bf5-44de-ca48-541bb3f84e4c"
      },
      "execution_count": null,
      "outputs": [
        {
          "output_type": "error",
          "ename": "SyntaxError",
          "evalue": "cannot assign to expression here. Maybe you meant '==' instead of '='? (<ipython-input-18-5d561c9c5cff>, line 3)",
          "traceback": [
            "\u001b[0;36m  File \u001b[0;32m\"<ipython-input-18-5d561c9c5cff>\"\u001b[0;36m, line \u001b[0;32m3\u001b[0m\n\u001b[0;31m    first@name = \"Chaitanya\"\u001b[0m\n\u001b[0m    ^\u001b[0m\n\u001b[0;31mSyntaxError\u001b[0m\u001b[0;31m:\u001b[0m cannot assign to expression here. Maybe you meant '==' instead of '='?\n"
          ]
        }
      ]
    },
    {
      "cell_type": "code",
      "source": [
        "# Invalid variable name\n",
        "# It must not be a keyword\n",
        "for = 10"
      ],
      "metadata": {
        "colab": {
          "base_uri": "https://localhost:8080/",
          "height": 106
        },
        "id": "SkveL7ea3C7I",
        "outputId": "b7826203-6912-4ff0-83fd-f8218c168c12"
      },
      "execution_count": null,
      "outputs": [
        {
          "output_type": "error",
          "ename": "SyntaxError",
          "evalue": "invalid syntax (<ipython-input-19-985096d1069e>, line 3)",
          "traceback": [
            "\u001b[0;36m  File \u001b[0;32m\"<ipython-input-19-985096d1069e>\"\u001b[0;36m, line \u001b[0;32m3\u001b[0m\n\u001b[0;31m    for = 10\u001b[0m\n\u001b[0m        ^\u001b[0m\n\u001b[0;31mSyntaxError\u001b[0m\u001b[0;31m:\u001b[0m invalid syntax\n"
          ]
        }
      ]
    },
    {
      "cell_type": "markdown",
      "source": [
        "#Type checking\n",
        "type() function is used to check the type of variable"
      ],
      "metadata": {
        "id": "FBIj627j4YWB"
      }
    },
    {
      "cell_type": "code",
      "source": [
        "# Example program to show implementation of type() function\n",
        "age = 20\n",
        "print(type(age))\n",
        "\n",
        "height = 5.6\n",
        "print(type(height))\n",
        "\n",
        "name = \"Chaitanya\"\n",
        "print(type(name))\n",
        "\n",
        "is_student = True\n",
        "print(type(is_student))"
      ],
      "metadata": {
        "colab": {
          "base_uri": "https://localhost:8080/"
        },
        "id": "UPezkcJI4f5H",
        "outputId": "0e9db011-433a-420a-d239-a171656b3403"
      },
      "execution_count": null,
      "outputs": [
        {
          "output_type": "stream",
          "name": "stdout",
          "text": [
            "<class 'int'>\n",
            "<class 'float'>\n",
            "<class 'str'>\n",
            "<class 'bool'>\n"
          ]
        }
      ]
    },
    {
      "cell_type": "markdown",
      "source": [
        "#Type conversion\n",
        "The casting operator () is used to convert the variable from one type to another"
      ],
      "metadata": {
        "id": "rCUTy3uY4yZ5"
      }
    },
    {
      "cell_type": "code",
      "source": [
        "# Example program to show type conversion from int to str\n",
        "age_int = 20\n",
        "print(age_int)\n",
        "print(type(age_int))\n",
        "\n",
        "age_str = str(age_int) # Type conversion from int to str\n",
        "print(age_str)\n",
        "print(type(age_str))"
      ],
      "metadata": {
        "colab": {
          "base_uri": "https://localhost:8080/"
        },
        "id": "3ONhlXSw5QpH",
        "outputId": "2892c73c-36f7-4d85-a6e9-8b16e0c2b920"
      },
      "execution_count": null,
      "outputs": [
        {
          "output_type": "stream",
          "name": "stdout",
          "text": [
            "20\n",
            "<class 'int'>\n",
            "20\n",
            "<class 'str'>\n"
          ]
        }
      ]
    },
    {
      "cell_type": "code",
      "source": [
        "# Example program to show type conversion from str to int (Where a sequence of numbers is stored as string)\n",
        "var_str = \"12345\"\n",
        "print(var_str)\n",
        "print(type(var_str))\n",
        "\n",
        "var_int = int(var_str) # Type conversion from str to int\n",
        "print(var_int)\n",
        "print(type(var_int))"
      ],
      "metadata": {
        "colab": {
          "base_uri": "https://localhost:8080/"
        },
        "id": "6p7XYgmM5uWc",
        "outputId": "dd808909-a928-4304-fc1e-c0c02d0abfa6"
      },
      "execution_count": null,
      "outputs": [
        {
          "output_type": "stream",
          "name": "stdout",
          "text": [
            "12345\n",
            "<class 'str'>\n",
            "12345\n",
            "<class 'int'>\n"
          ]
        }
      ]
    },
    {
      "cell_type": "code",
      "source": [
        "# Example program to show type conversion from str to int (Where a sequence of characters is stored as string)\n",
        "var_str = \"Chaitanya\"\n",
        "print(var_str)\n",
        "print(type(var_str))\n",
        "\n",
        "var_int = int(var_str) # Type conversion from str to int\n",
        "print(var_int)\n",
        "print(type(var_int))"
      ],
      "metadata": {
        "colab": {
          "base_uri": "https://localhost:8080/",
          "height": 245
        },
        "id": "if5F7oXo6IPN",
        "outputId": "2d4e8de3-a129-4b87-ee29-3c28d37b5e3c"
      },
      "execution_count": null,
      "outputs": [
        {
          "output_type": "stream",
          "name": "stdout",
          "text": [
            "Chaitanya\n",
            "<class 'str'>\n"
          ]
        },
        {
          "output_type": "error",
          "ename": "ValueError",
          "evalue": "invalid literal for int() with base 10: 'Chaitanya'",
          "traceback": [
            "\u001b[0;31m---------------------------------------------------------------------------\u001b[0m",
            "\u001b[0;31mValueError\u001b[0m                                Traceback (most recent call last)",
            "\u001b[0;32m<ipython-input-23-0efd264aebb1>\u001b[0m in \u001b[0;36m<cell line: 6>\u001b[0;34m()\u001b[0m\n\u001b[1;32m      4\u001b[0m \u001b[0mprint\u001b[0m\u001b[0;34m(\u001b[0m\u001b[0mtype\u001b[0m\u001b[0;34m(\u001b[0m\u001b[0mvar_str\u001b[0m\u001b[0;34m)\u001b[0m\u001b[0;34m)\u001b[0m\u001b[0;34m\u001b[0m\u001b[0;34m\u001b[0m\u001b[0m\n\u001b[1;32m      5\u001b[0m \u001b[0;34m\u001b[0m\u001b[0m\n\u001b[0;32m----> 6\u001b[0;31m \u001b[0mvar_int\u001b[0m \u001b[0;34m=\u001b[0m \u001b[0mint\u001b[0m\u001b[0;34m(\u001b[0m\u001b[0mvar_str\u001b[0m\u001b[0;34m)\u001b[0m \u001b[0;31m# Type conversion from str to int\u001b[0m\u001b[0;34m\u001b[0m\u001b[0;34m\u001b[0m\u001b[0m\n\u001b[0m\u001b[1;32m      7\u001b[0m \u001b[0mprint\u001b[0m\u001b[0;34m(\u001b[0m\u001b[0mvar_int\u001b[0m\u001b[0;34m)\u001b[0m\u001b[0;34m\u001b[0m\u001b[0;34m\u001b[0m\u001b[0m\n\u001b[1;32m      8\u001b[0m \u001b[0mprint\u001b[0m\u001b[0;34m(\u001b[0m\u001b[0mtype\u001b[0m\u001b[0;34m(\u001b[0m\u001b[0mvar_int\u001b[0m\u001b[0;34m)\u001b[0m\u001b[0;34m)\u001b[0m\u001b[0;34m\u001b[0m\u001b[0;34m\u001b[0m\u001b[0m\n",
            "\u001b[0;31mValueError\u001b[0m: invalid literal for int() with base 10: 'Chaitanya'"
          ]
        }
      ]
    },
    {
      "cell_type": "code",
      "source": [
        "# Type conversion from float to int\n",
        "height_float = 5.6\n",
        "print(height_float)\n",
        "print(type(height_float))\n",
        "\n",
        "height_int = int(height_float) # Type conversion from float to int\n",
        "print(height_int)\n",
        "print(type(height_int))"
      ],
      "metadata": {
        "colab": {
          "base_uri": "https://localhost:8080/"
        },
        "id": "0onNXzmD6mCe",
        "outputId": "079edde3-3f27-4bd4-eee4-79f1acf94511"
      },
      "execution_count": null,
      "outputs": [
        {
          "output_type": "stream",
          "name": "stdout",
          "text": [
            "5.6\n",
            "<class 'float'>\n",
            "5\n",
            "<class 'int'>\n"
          ]
        }
      ]
    },
    {
      "cell_type": "code",
      "source": [
        "# Type conversion from int to float\n",
        "age_int = 20\n",
        "print(age_int)\n",
        "print(type(age_int))\n",
        "\n",
        "age_float = float(age_int) # Type conversion from int to float\n",
        "print(age_float)\n",
        "print(type(age_float))"
      ],
      "metadata": {
        "colab": {
          "base_uri": "https://localhost:8080/"
        },
        "id": "8tunIsvV6whJ",
        "outputId": "74e77e3a-68dc-4056-b056-1d70be27ae63"
      },
      "execution_count": null,
      "outputs": [
        {
          "output_type": "stream",
          "name": "stdout",
          "text": [
            "20\n",
            "<class 'int'>\n",
            "20.0\n",
            "<class 'float'>\n"
          ]
        }
      ]
    },
    {
      "cell_type": "markdown",
      "source": [
        "#Dynamic typing\n",
        "Python allows the type of variable to change as the program executes.\n",
        "\n",
        "Same variable can be used multiple times with different types."
      ],
      "metadata": {
        "id": "lCYRuDQxygBL"
      }
    },
    {
      "cell_type": "code",
      "source": [
        "var = 10 # int\n",
        "print(var)\n",
        "print(type(var))\n",
        "\n",
        "var = \"hello\" # str\n",
        "print(var)\n",
        "print(type(var))\n",
        "\n",
        "var = 1.234 # float\n",
        "print(var)\n",
        "print(type(var))\n",
        "\n",
        "var = True # bool\n",
        "print(var)\n",
        "print(type(var))"
      ],
      "metadata": {
        "colab": {
          "base_uri": "https://localhost:8080/"
        },
        "id": "aRvgxz0xyxA7",
        "outputId": "1cbcfa22-c6de-4828-f5d2-9cc26dc77447"
      },
      "execution_count": null,
      "outputs": [
        {
          "output_type": "stream",
          "name": "stdout",
          "text": [
            "10\n",
            "<class 'int'>\n",
            "hello\n",
            "<class 'str'>\n",
            "1.234\n",
            "<class 'float'>\n",
            "True\n",
            "<class 'bool'>\n"
          ]
        }
      ]
    },
    {
      "cell_type": "markdown",
      "source": [
        "#Data type\n",
        "**Definition:**\n",
        "\n",
        "Data types are a classification of data which tell the compiler or interpreter how the programmer intends to use the data.\n",
        "\n",
        "They determine the type of operations that can be performed of the data, the values that the data can take and the amount of memory needed to store the data.\n",
        "\n",
        "**Importance:**\n",
        "\n",
        "* Ensure that the data is tored in an efficient way\n",
        "* They help in performing correct operations on data\n",
        "* Proper use of data types can prevent errors and bugs in the program\n",
        "\n",
        "**Types:**\n",
        "1. Integer\n",
        "2. Floating point\n",
        "3. String\n",
        "4. Boolean"
      ],
      "metadata": {
        "id": "fnpIVsR2-Q7W"
      }
    },
    {
      "cell_type": "code",
      "source": [
        "# Example program to show implementation of different data types in Python\n",
        "\n",
        "# Integer\n",
        "age = 20\n",
        "print(age)\n",
        "print(type(age))\n",
        "\n",
        "# Floating point\n",
        "height = 5.6\n",
        "print(height)\n",
        "print(type(height))\n",
        "\n",
        "# String\n",
        "name = \"Chaitanya\"\n",
        "print(name)\n",
        "print(type(name))\n",
        "\n",
        "# Boolean\n",
        "is_student = True\n",
        "print(is_student)\n",
        "print(type(is_student))"
      ],
      "metadata": {
        "colab": {
          "base_uri": "https://localhost:8080/"
        },
        "id": "lqEI3ka9_IxE",
        "outputId": "2c5bfd09-da4f-4af3-8567-cbcca085735c"
      },
      "execution_count": null,
      "outputs": [
        {
          "output_type": "stream",
          "name": "stdout",
          "text": [
            "20\n",
            "<class 'int'>\n",
            "5.6\n",
            "<class 'float'>\n",
            "Chaitanya\n",
            "<class 'str'>\n",
            "True\n",
            "<class 'bool'>\n"
          ]
        }
      ]
    },
    {
      "cell_type": "markdown",
      "source": [
        "#Input\n",
        "input() function is used to take input from the user. The default type to take input is str. To take the input of other data types, type conversion is used."
      ],
      "metadata": {
        "id": "VzcjdgZa8I6I"
      }
    },
    {
      "cell_type": "code",
      "source": [
        "# Example program to take input from user\n",
        "name = input(\"Enter name: \")\n",
        "age = int(input(\"Enter age: \"))\n",
        "height = float(input(\"Enter height: \"))\n",
        "is_student = bool(input(\"Enter is student: \"))\n",
        "\n",
        "# Printing the inputs\n",
        "print(\"Name: \",name)\n",
        "print(\"Age: \",age)\n",
        "print(\"Height: \",height)\n",
        "print(\"Is student: \",is_student)"
      ],
      "metadata": {
        "colab": {
          "base_uri": "https://localhost:8080/"
        },
        "id": "1FjQIdOM8arM",
        "outputId": "bd64aaa2-ddb5-435f-ef4d-46515049d6aa"
      },
      "execution_count": null,
      "outputs": [
        {
          "output_type": "stream",
          "name": "stdout",
          "text": [
            "Enter name: Chaitanya\n",
            "Enter age: 20\n",
            "Enter height: 5.6\n",
            "Enter is student: True\n",
            "Name:  Chaitanya\n",
            "Age:  20\n",
            "Height:  5.6\n",
            "Is student:  True\n"
          ]
        }
      ]
    },
    {
      "cell_type": "markdown",
      "source": [
        "#Operators\n",
        "Operators are special symbols that are used to perform different types of operations on operands\n",
        "**Types:**\n",
        "1. Arithmetic\n",
        "  * Addition\n",
        "  * Subtraction\n",
        "  * Multiplication\n",
        "  * Division\n",
        "  * Floor division\n",
        "  * Modulus\n",
        "  * Exponentiation\n",
        "2. Comparison\n",
        "  * Equal to\n",
        "  * Not equal to\n",
        "  * Greater than\n",
        "  * Less than\n",
        "  * Greater than or equal to\n",
        "  * Less than or equal to\n",
        "3. Logical\n",
        "  * AND\n",
        "  * OR\n",
        "  * NOT\n",
        "4. Assignment"
      ],
      "metadata": {
        "id": "dSfRUmjlBxWo"
      }
    },
    {
      "cell_type": "markdown",
      "source": [
        "#Arithmetic operators\n",
        "They are used to perform different types of mathematical operations on two operands"
      ],
      "metadata": {
        "id": "8Be3flVtDmg8"
      }
    },
    {
      "cell_type": "code",
      "source": [
        "# Example program to implement arithmetic operators\n",
        "a = 10\n",
        "b = 15\n",
        "\n",
        "# Addition\n",
        "sum = a + b\n",
        "print(\"Sum: \",sum)\n",
        "\n",
        "# Subtraction\n",
        "diff = a - b\n",
        "print(\"Difference: \",diff)\n",
        "\n",
        "# Multiplication\n",
        "pro = a * b\n",
        "print(\"Product: \",pro)\n",
        "\n",
        "# Division\n",
        "quo = a / b\n",
        "print(\"Quotient: \",quo)\n",
        "\n",
        "# Floor division\n",
        "quo_floor = a // b\n",
        "print(\"Floor quotient: \",quo_floor)\n",
        "\n",
        "# Modulus\n",
        "rem = a % b\n",
        "print(\"Remainder: \",rem)\n",
        "\n",
        "# Exponentiation\n",
        "exp = a ** b\n",
        "print(\"Exponent: \",exp)"
      ],
      "metadata": {
        "colab": {
          "base_uri": "https://localhost:8080/"
        },
        "id": "VqJit1u0Cy_y",
        "outputId": "9a66c689-a1af-4274-9045-2be954033a68"
      },
      "execution_count": null,
      "outputs": [
        {
          "output_type": "stream",
          "name": "stdout",
          "text": [
            "Sum:  25\n",
            "Difference:  -5\n",
            "Product:  150\n",
            "Quotient:  0.6666666666666666\n",
            "Floor quotient:  0\n",
            "Remainder:  10\n",
            "Exponent:  1000000000000000\n"
          ]
        }
      ]
    },
    {
      "cell_type": "markdown",
      "source": [
        "**Difference between division and floor division:**\n",
        "\n",
        "Division:\n",
        "```\n",
        "21 / 5 = 4.2 -----> Decimal no.\n",
        "```\n",
        "Floor division:\n",
        "\n",
        "\n",
        "```\n",
        "21 // 5 = 4 -----> Whole no.\n",
        "```\n",
        "\n",
        "\n"
      ],
      "metadata": {
        "id": "FiKWLfd3ERVu"
      }
    },
    {
      "cell_type": "markdown",
      "source": [
        "#Comparison operators\n",
        "They are used to compare the value of two or more variables and return the result as either True (1) or False (0) only"
      ],
      "metadata": {
        "id": "7dzDmy6dE0Yz"
      }
    },
    {
      "cell_type": "code",
      "source": [
        "# Example program to implement comparison operators\n",
        "a = 10\n",
        "b = 15\n",
        "\n",
        "# Equal to\n",
        "print(a==b)\n",
        "\n",
        "# Not equal to\n",
        "print(a!=b)\n",
        "\n",
        "# Greater than\n",
        "print(a>b)\n",
        "\n",
        "# Less than\n",
        "print(a<b)\n",
        "\n",
        "# Greater than or equal to\n",
        "print(a>=b)\n",
        "\n",
        "# Less than or equal to\n",
        "print(a<=b)"
      ],
      "metadata": {
        "colab": {
          "base_uri": "https://localhost:8080/"
        },
        "id": "hp99ok9IFDRF",
        "outputId": "8c00e018-50ad-49e2-da91-11640d9aa355"
      },
      "execution_count": null,
      "outputs": [
        {
          "output_type": "stream",
          "name": "stdout",
          "text": [
            "False\n",
            "True\n",
            "False\n",
            "True\n",
            "False\n",
            "True\n"
          ]
        }
      ]
    },
    {
      "cell_type": "markdown",
      "source": [
        "#Logical operators\n",
        "**and:** Returns True if both the statements are True\n",
        "\n",
        "**or:** Returns True if any one of the statements is True\n",
        "\n",
        "**not:** Reverses True to False and False to True"
      ],
      "metadata": {
        "id": "LRlwMCfBGPU_"
      }
    },
    {
      "cell_type": "code",
      "source": [
        "# Example program to implement logical operators\n",
        "# AND\n",
        "a = True\n",
        "b = True\n",
        "c = False\n",
        "print(a and b) # True\n",
        "print(b and c) # False\n",
        "\n",
        "# OR\n",
        "a = True\n",
        "b = True\n",
        "c = False\n",
        "print(a or b) # True\n",
        "print(b or c) # False\n",
        "\n",
        "# NOT\n",
        "a = True\n",
        "print(not a) # False\n",
        "b = False\n",
        "print(not b) # True"
      ],
      "metadata": {
        "colab": {
          "base_uri": "https://localhost:8080/"
        },
        "id": "yyGq7tMTGjJv",
        "outputId": "fcf3af24-bcb6-4c3a-d4a5-00ab8b505992"
      },
      "execution_count": null,
      "outputs": [
        {
          "output_type": "stream",
          "name": "stdout",
          "text": [
            "True\n",
            "False\n",
            "True\n",
            "True\n",
            "False\n",
            "True\n"
          ]
        }
      ]
    },
    {
      "cell_type": "markdown",
      "source": [
        "#Assignment operators"
      ],
      "metadata": {
        "id": "QHO538ghHNrM"
      }
    },
    {
      "cell_type": "code",
      "source": [
        "# Example program to implement assignment operators\n",
        "a = 10 # Value 10 is assigned to variable a\n",
        "print(a) # 10\n",
        "\n",
        "a = 10\n",
        "a += 2 # a = a + 2\n",
        "print(a) # 12\n",
        "\n",
        "a = 10\n",
        "a -= 2 # a = a - 2\n",
        "print(a) # 8\n",
        "\n",
        "a = 10\n",
        "a *= 2 # a = a * 2\n",
        "print(a) # 20\n",
        "\n",
        "a = 10\n",
        "a /= 2 # a = a / 2\n",
        "print(a) # 5.0\n",
        "\n",
        "a = 10\n",
        "a //= 2 # a = a // 2\n",
        "print(a) # 5\n",
        "\n",
        "a = 10\n",
        "a %= 2 # a = a % 2\n",
        "print(a) # 0\n",
        "\n",
        "a = 10\n",
        "a **= 2 # a = a ** 2\n",
        "print(a) # 100"
      ],
      "metadata": {
        "colab": {
          "base_uri": "https://localhost:8080/"
        },
        "id": "zaxx-GTPHPw9",
        "outputId": "f5caf3c7-44e5-4d1d-dff3-6fe2dc543b21"
      },
      "execution_count": null,
      "outputs": [
        {
          "output_type": "stream",
          "name": "stdout",
          "text": [
            "10\n",
            "12\n",
            "8\n",
            "20\n",
            "5.0\n",
            "5\n",
            "0\n",
            "100\n"
          ]
        }
      ]
    }
  ]
}